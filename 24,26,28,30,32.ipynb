{
 "cells": [
  {
   "cell_type": "code",
   "execution_count": 1,
   "id": "a6b3eb98",
   "metadata": {},
   "outputs": [
    {
     "name": "stdout",
     "output_type": "stream",
     "text": [
      "File not found. Please check the file path.\n"
     ]
    },
    {
     "name": "stderr",
     "output_type": "stream",
     "text": [
      "[nltk_data] Downloading package punkt to\n",
      "[nltk_data]     C:\\Users\\Shivani\\AppData\\Roaming\\nltk_data...\n",
      "[nltk_data]   Package punkt is already up-to-date!\n"
     ]
    }
   ],
   "source": [
    "import nltk\n",
    "from nltk.tokenize import word_tokenize\n",
    "from nltk.probability import FreqDist\n",
    "import string\n",
    "\n",
    "# Ensure the necessary NLTK packages are downloaded\n",
    "nltk.download('punkt')\n",
    "\n",
    "def load_text_file(file_path):\n",
    "    \"\"\"Load text data from a file.\"\"\"\n",
    "    try:\n",
    "        with open(file_path, 'r', encoding='utf-8') as file:\n",
    "            return file.read()\n",
    "    except FileNotFoundError:\n",
    "        print(\"File not found. Please check the file path.\")\n",
    "        return None\n",
    "\n",
    "def preprocess_text(text):\n",
    "    \"\"\"Preprocess text by removing punctuation and converting to lowercase.\"\"\"\n",
    "    translator = str.maketrans('', '', string.punctuation)\n",
    "    return text.translate(translator).lower()\n",
    "\n",
    "def get_most_common_words(text, n=10):\n",
    "    \"\"\"Tokenize the text and return the n most common words.\"\"\"\n",
    "    tokens = word_tokenize(text)\n",
    "    freq_dist = FreqDist(tokens)\n",
    "    return freq_dist.most_common(n)\n",
    "\n",
    "def main():\n",
    "    # Specify the path to your text file\n",
    "    file_path = \"sample.txt\"  # Replace with the path to your text file\n",
    "\n",
    "    # Load and preprocess the text\n",
    "    text = load_text_file(file_path)\n",
    "    if text:\n",
    "        processed_text = preprocess_text(text)\n",
    "\n",
    "        # Get the 10 most common words\n",
    "        most_common_words = get_most_common_words(processed_text, 10)\n",
    "\n",
    "        print(\"The 10 most common words are:\")\n",
    "        for word, count in most_common_words:\n",
    "            print(f\"{word}: {count}\")\n",
    "\n",
    "if __name__ == \"__main__\":\n",
    "    main()\n"
   ]
  },
  {
   "cell_type": "code",
   "execution_count": 2,
   "id": "43437f07",
   "metadata": {},
   "outputs": [
    {
     "name": "stdout",
     "output_type": "stream",
     "text": [
      "Cosine Similarity: 1.0\n"
     ]
    }
   ],
   "source": [
    "from sklearn.feature_extraction.text import TfidfVectorizer\n",
    "from sklearn.metrics.pairwise import cosine_similarity\n",
    "\n",
    "def calculate_cosine_similarity(text1, text2):\n",
    "    \"\"\"Calculate cosine similarity between two strings.\"\"\"\n",
    "    # Initialize the TfidfVectorizer\n",
    "    vectorizer = TfidfVectorizer()\n",
    "\n",
    "    # Transform the texts into TF-IDF vectors\n",
    "    tfidf_matrix = vectorizer.fit_transform([text1, text2])\n",
    "\n",
    "    # Compute the cosine similarity\n",
    "    similarity = cosine_similarity(tfidf_matrix[0:1], tfidf_matrix[1:2])\n",
    "\n",
    "    return similarity[0][0]\n",
    "\n",
    "def main():\n",
    "    # Example strings\n",
    "    text1 = \"This is a sample sentence.\"\n",
    "    text2 = \"This sentence is a sample.\"\n",
    "\n",
    "    # Calculate cosine similarity\n",
    "    similarity = calculate_cosine_similarity(text1, text2)\n",
    "\n",
    "    print(f\"Cosine Similarity: {similarity}\")\n",
    "\n",
    "if __name__ == \"__main__\":\n",
    "    main()\n"
   ]
  },
  {
   "cell_type": "code",
   "execution_count": 3,
   "id": "357859ee",
   "metadata": {},
   "outputs": [
    {
     "name": "stdout",
     "output_type": "stream",
     "text": [
      "Named Entities and their Types:\n",
      "Barack Obama: PERSON\n",
      "August 4, 1961: DATE\n",
      "Honolulu: GPE\n",
      "Hawaii: GPE\n",
      "44th: ORDINAL\n",
      "the United States: GPE\n"
     ]
    }
   ],
   "source": [
    "import spacy\n",
    "\n",
    "def perform_ner(text):\n",
    "    \"\"\"Perform Named Entity Recognition (NER) on the given text.\"\"\"\n",
    "    # Load the SpaCy English model\n",
    "    nlp = spacy.load(\"en_core_web_sm\")\n",
    "\n",
    "    # Process the text using SpaCy\n",
    "    doc = nlp(text)\n",
    "\n",
    "    # Extract entities and their labels\n",
    "    entities = [(ent.text, ent.label_) for ent in doc.ents]\n",
    "    return entities\n",
    "\n",
    "def main():\n",
    "    # Example text\n",
    "    text = \"Barack Obama was born on August 4, 1961, in Honolulu, Hawaii. He was the 44th President of the United States.\"\n",
    "\n",
    "    # Perform NER\n",
    "    entities = perform_ner(text)\n",
    "\n",
    "    print(\"Named Entities and their Types:\")\n",
    "    for entity, label in entities:\n",
    "        print(f\"{entity}: {label}\")\n",
    "\n",
    "if __name__ == \"__main__\":\n",
    "    main()\n"
   ]
  },
  {
   "cell_type": "code",
   "execution_count": 8,
   "id": "20680ca7",
   "metadata": {},
   "outputs": [
    {
     "name": "stdout",
     "output_type": "stream",
     "text": [
      "Requirement already satisfied: textblob in c:\\users\\shivani\\.ms-ad\\lib\\site-packages (0.19.0)\n",
      "Requirement already satisfied: nltk>=3.9 in c:\\users\\shivani\\.ms-ad\\lib\\site-packages (from textblob) (3.9.1)\n",
      "Requirement already satisfied: click in c:\\users\\shivani\\.ms-ad\\lib\\site-packages (from nltk>=3.9->textblob) (8.0.4)\n",
      "Requirement already satisfied: joblib in c:\\users\\shivani\\.ms-ad\\lib\\site-packages (from nltk>=3.9->textblob) (1.2.0)\n",
      "Requirement already satisfied: regex>=2021.8.3 in c:\\users\\shivani\\.ms-ad\\lib\\site-packages (from nltk>=3.9->textblob) (2022.7.9)\n",
      "Requirement already satisfied: tqdm in c:\\users\\shivani\\.ms-ad\\lib\\site-packages (from nltk>=3.9->textblob) (4.65.0)\n",
      "Requirement already satisfied: colorama in c:\\users\\shivani\\.ms-ad\\lib\\site-packages (from click->nltk>=3.9->textblob) (0.4.6)\n",
      "Note: you may need to restart the kernel to use updated packages.\n"
     ]
    }
   ],
   "source": [
    "pip install textblob\n"
   ]
  },
  {
   "cell_type": "code",
   "execution_count": null,
   "id": "576b23e6",
   "metadata": {},
   "outputs": [],
   "source": []
  },
  {
   "cell_type": "code",
   "execution_count": 10,
   "id": "4c383e2a",
   "metadata": {},
   "outputs": [
    {
     "name": "stdout",
     "output_type": "stream",
     "text": [
      "Sentiment Analysis Result:\n",
      "Sentiment: Positive\n",
      "Polarity: 0.7416666666666667\n"
     ]
    }
   ],
   "source": [
    "from textblob import TextBlob\n",
    "\n",
    "def analyze_sentiment(text):\n",
    "    \"\"\"Perform sentiment analysis on the given text.\"\"\"\n",
    "    # Create a TextBlob object\n",
    "    blob = TextBlob(text)\n",
    "\n",
    "    # Get the sentiment polarity\n",
    "    polarity = blob.sentiment.polarity\n",
    "\n",
    "    # Determine the sentiment type\n",
    "    if polarity > 0:\n",
    "        sentiment = \"Positive\"\n",
    "    elif polarity < 0:\n",
    "        sentiment = \"Negative\"\n",
    "    else:\n",
    "        sentiment = \"Neutral\"\n",
    "\n",
    "    return sentiment, polarity\n",
    "\n",
    "def main():\n",
    "    # Example text\n",
    "    text = \"I love this product! It's amazing and works perfectly.\"\n",
    "\n",
    "    # Perform sentiment analysis\n",
    "    sentiment, polarity = analyze_sentiment(text)\n",
    "\n",
    "    print(\"Sentiment Analysis Result:\")\n",
    "    print(f\"Sentiment: {sentiment}\")\n",
    "    print(f\"Polarity: {polarity}\")\n",
    "\n",
    "if __name__ == \"__main__\":\n",
    "    main()\n"
   ]
  },
  {
   "cell_type": "code",
   "execution_count": 11,
   "id": "508cd214",
   "metadata": {},
   "outputs": [
    {
     "name": "stdout",
     "output_type": "stream",
     "text": [
      "File not found. Please check the file path.\n"
     ]
    },
    {
     "name": "stderr",
     "output_type": "stream",
     "text": [
      "[nltk_data] Downloading package punkt to\n",
      "[nltk_data]     C:\\Users\\Shivani\\AppData\\Roaming\\nltk_data...\n",
      "[nltk_data]   Package punkt is already up-to-date!\n"
     ]
    }
   ],
   "source": [
    "import string\n",
    "from collections import Counter\n",
    "from nltk.tokenize import word_tokenize\n",
    "import nltk\n",
    "\n",
    "# Ensure necessary NLTK packages are downloaded\n",
    "nltk.download('punkt')\n",
    "\n",
    "def load_text_file(file_path):\n",
    "    \"\"\"Load text data from a file.\"\"\"\n",
    "    try:\n",
    "        with open(file_path, 'r', encoding='utf-8') as file:\n",
    "            return file.read()\n",
    "    except FileNotFoundError:\n",
    "        print(\"File not found. Please check the file path.\")\n",
    "        return None\n",
    "\n",
    "def preprocess_text(text):\n",
    "    \"\"\"Preprocess text by removing punctuation and converting to lowercase.\"\"\"\n",
    "    translator = str.maketrans('', '', string.punctuation)\n",
    "    return text.translate(translator).lower()\n",
    "\n",
    "def calculate_term_frequency(tokens):\n",
    "    \"\"\"Calculate the term frequency (TF) of each token.\"\"\"\n",
    "    total_tokens = len(tokens)\n",
    "    token_counts = Counter(tokens)\n",
    "    tf = {token: count / total_tokens for token, count in token_counts.items()}\n",
    "    return tf\n",
    "\n",
    "def main():\n",
    "    # Specify the path to your text file\n",
    "    file_path = \"sample.txt\"  # Replace with the path to your text file\n",
    "\n",
    "    # Load and preprocess the text\n",
    "    text = load_text_file(file_path)\n",
    "    if text:\n",
    "        processed_text = preprocess_text(text)\n",
    "\n",
    "        # Tokenize the text\n",
    "        tokens = word_tokenize(processed_text)\n",
    "\n",
    "        # Calculate term frequency (TF)\n",
    "        tf = calculate_term_frequency(tokens)\n",
    "\n",
    "        # Sort and get the top 5 most frequent tokens\n",
    "        top_tokens = sorted(tf.items(), key=lambda item: item[1], reverse=True)[:5]\n",
    "\n",
    "        print(\"Top 5 Most Frequent Tokens and Their Term Frequencies:\")\n",
    "        for token, frequency in top_tokens:\n",
    "            print(f\"{token}: {frequency:.4f}\")\n",
    "\n",
    "if __name__ == \"__main__\":\n",
    "    main()\n"
   ]
  },
  {
   "cell_type": "code",
   "execution_count": null,
   "id": "066fe1ef",
   "metadata": {},
   "outputs": [],
   "source": []
  }
 ],
 "metadata": {
  "kernelspec": {
   "display_name": "Python 3 (ipykernel)",
   "language": "python",
   "name": "python3"
  },
  "language_info": {
   "codemirror_mode": {
    "name": "ipython",
    "version": 3
   },
   "file_extension": ".py",
   "mimetype": "text/x-python",
   "name": "python",
   "nbconvert_exporter": "python",
   "pygments_lexer": "ipython3",
   "version": "3.11.5"
  }
 },
 "nbformat": 4,
 "nbformat_minor": 5
}
